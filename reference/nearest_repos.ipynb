{
 "cells": [
  {
   "cell_type": "code",
   "execution_count": 1,
   "metadata": {
    "collapsed": false
   },
   "outputs": [
    {
     "name": "stdout",
     "output_type": "stream",
     "text": [
      "Populating the interactive namespace from numpy and matplotlib\n"
     ]
    }
   ],
   "source": [
    "%pylab inline\n",
    "import logging\n",
    "import pickle\n",
    "import wmd\n",
    "logging.basicConfig(level=logging.INFO)"
   ]
  },
  {
   "cell_type": "code",
   "execution_count": null,
   "metadata": {
    "collapsed": true
   },
   "outputs": [],
   "source": [
    "!wget https://storage.googleapis.com/models.cdn.sourced.tech/legacy/nbow_500k.pickle\n",
    "!wget https://storage.googleapis.com/models.cdn.sourced.tech/legacy/id2vec_500k.pickle"
   ]
  },
  {
   "cell_type": "code",
   "execution_count": 2,
   "metadata": {
    "collapsed": false
   },
   "outputs": [],
   "source": [
    "with open(\"nbow_500k.pickle\", \"rb\") as fin:\n",
    "    nbow = pickle.load(fin)\n",
    "with open(\"id2vec_500k.pickle\", \"rb\") as fin:\n",
    "    _, _, embeddings = pickle.load(fin)\n",
    "embeddings = array(embeddings, dtype=float32)\n",
    "repo_index = {r[0]: i for i, r in enumerate(nbow)}\n",
    "\n",
    "class nbowobj(object):\n",
    "    def __iter__(self):\n",
    "        return iter(range(len(nbow)))\n",
    "    def __getitem__(self, key):\n",
    "        r = nbow[key]\n",
    "        pairs = r[1]\n",
    "        words = array([p[0] for p in pairs], dtype=int32)\n",
    "        weights = array([p[1] for p in pairs], dtype=float32)\n",
    "        return r[0], words, weights\n",
    "\n",
    "nnwmd = wmd.WMD(embeddings, nbowobj())\n",
    "# Uncomment if you will do several queries\n",
    "# nnwmd.cache_centroids()"
   ]
  },
  {
   "cell_type": "code",
   "execution_count": 4,
   "metadata": {
    "collapsed": false
   },
   "outputs": [
    {
     "name": "stderr",
     "output_type": "stream",
     "text": [
      "INFO:WMD:Vocabulary size: 500 500\n",
      "INFO:WMD:WCD\n",
      "INFO:WMD:205.7\n",
      "INFO:WMD:First K WMD\n",
      "INFO:WMD:[(-11.942072868347168, 91525), (-11.932178497314453, 81114), (-11.90528392791748, 56901), (-11.85637378692627, 23771), (-11.725412368774414, 43146), (-11.381988525390625, 27465), (-11.482338905334473, 33226), (-11.553187370300293, 74611), (-11.630077362060547, 65087), (-11.517928123474121, 54477)]\n",
      "INFO:WMD:7.0\n",
      "INFO:WMD:P&P\n",
      "INFO:WMD:130 0.023076923076923078 11.095311164855957 [(-11.66287899017334, 58403), (-11.630077362060547, 65087), (-11.528206825256348, 89426)] ['rainers/cv2pdb', 'qeedquan/gosubc', 'nim-lang/Nim']\n",
      "INFO:WMD:260 0.05384615384615385 11.523826599121094 [(-11.66287899017334, 58403), (-11.630077362060547, 65087), (-11.528206825256348, 89426)] ['rainers/cv2pdb', 'qeedquan/gosubc', 'nim-lang/Nim']\n",
      "INFO:WMD:400 0.0625 11.610845565795898 [(-11.66287899017334, 58403), (-11.630077362060547, 65087), (-11.528206825256348, 89426)] ['rainers/cv2pdb', 'qeedquan/gosubc', 'nim-lang/Nim']\n",
      "INFO:WMD:stopped by max_time condition\n"
     ]
    },
    {
     "name": "stdout",
     "output_type": "stream",
     "text": [
      "CPU times: user 4min 10s, sys: 1min 58s, total: 6min 9s\n",
      "Wall time: 6min 39s\n",
      "D-Programming-GDC/GDC\n",
      "oridb/mc\n",
      "alexfru/SmallerC\n",
      "rainers/cv2pdb\n",
      "nim-lang/Nim\n",
      "qeedquan/gosubc\n",
      "ldc-developers/ldc\n",
      "notaz/ia32rtools\n",
      "arnetheduck/nlvm\n",
      "svent/jsdetox\n",
      "BinaryAnalysisPlatform/bap\n"
     ]
    }
   ],
   "source": [
    "# tune skipped_stop, early_stop and max_time\n",
    "kwargs = dict(skipped_stop=0.9, early_stop=0.2, max_time=180)\n",
    "nearest_repos = %time nnwmd.nearest_neighbors(repo_index[\"dlang/dmd\"], 10 + 1, **kwargs)\n",
    "for n in nearest_repos:\n",
    "    print(nbow[n[0]][0])"
   ]
  }
 ],
 "metadata": {
  "kernelspec": {
   "display_name": "Python 3",
   "language": "python",
   "name": "python3"
  },
  "language_info": {
   "codemirror_mode": {
    "name": "ipython",
    "version": 3
   },
   "file_extension": ".py",
   "mimetype": "text/x-python",
   "name": "python",
   "nbconvert_exporter": "python",
   "pygments_lexer": "ipython3",
   "version": "3.5.2"
  }
 },
 "nbformat": 4,
 "nbformat_minor": 2
}
